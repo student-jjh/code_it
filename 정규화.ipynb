{
 "metadata": {
  "language_info": {
   "codemirror_mode": {
    "name": "ipython",
    "version": 3
   },
   "file_extension": ".py",
   "mimetype": "text/x-python",
   "name": "python",
   "nbconvert_exporter": "python",
   "pygments_lexer": "ipython3",
   "version": "3.9.0"
  },
  "orig_nbformat": 2,
  "kernelspec": {
   "name": "python390jvsc74a57bd0aee8b7b246df8f9039afb4144a1f6fd8d2ca17a180786b69acc140d282b71a49",
   "display_name": "Python 3.9.0 64-bit"
  },
  "metadata": {
   "interpreter": {
    "hash": "aee8b7b246df8f9039afb4144a1f6fd8d2ca17a180786b69acc140d282b71a49"
   }
  }
 },
 "nbformat": 4,
 "nbformat_minor": 2,
 "cells": [
  {
   "cell_type": "code",
   "execution_count": 1,
   "metadata": {},
   "outputs": [],
   "source": [
    "from sklearn.linear_model import LinearRegression\n",
    "from sklearn.linear_model import Lasso\n",
    "from sklearn.model_selection import train_test_split\n",
    "from sklearn.preprocessing import PolynomialFeatures\n",
    "from sklearn.metrics import mean_squared_error\n",
    "\n",
    "from math import sqrt\n",
    "\n",
    "import numpy as np\n",
    "import pandas as pd"
   ]
  },
  {
   "cell_type": "code",
   "execution_count": 4,
   "metadata": {},
   "outputs": [],
   "source": [
    "ADMISSION_FILE_PATH='/Users/junjoonheak/Desktop/code_it/admission_data.csv'\n",
    "admission_df=pd.read_csv(ADMISSION_FILE_PATH).drop(\"Serial No.\",axis=1)"
   ]
  },
  {
   "cell_type": "code",
   "execution_count": 5,
   "metadata": {},
   "outputs": [
    {
     "output_type": "execute_result",
     "data": {
      "text/plain": [
       "   GRE Score  TOEFL Score  University Rating  SOP  LOR   CGPA  Research  \\\n",
       "0        337          118                  4  4.5   4.5  9.65         1   \n",
       "1        324          107                  4  4.0   4.5  8.87         1   \n",
       "2        316          104                  3  3.0   3.5  8.00         1   \n",
       "3        322          110                  3  3.5   2.5  8.67         1   \n",
       "4        314          103                  2  2.0   3.0  8.21         0   \n",
       "\n",
       "   Chance of Admit   \n",
       "0              0.92  \n",
       "1              0.76  \n",
       "2              0.72  \n",
       "3              0.80  \n",
       "4              0.65  "
      ],
      "text/html": "<div>\n<style scoped>\n    .dataframe tbody tr th:only-of-type {\n        vertical-align: middle;\n    }\n\n    .dataframe tbody tr th {\n        vertical-align: top;\n    }\n\n    .dataframe thead th {\n        text-align: right;\n    }\n</style>\n<table border=\"1\" class=\"dataframe\">\n  <thead>\n    <tr style=\"text-align: right;\">\n      <th></th>\n      <th>GRE Score</th>\n      <th>TOEFL Score</th>\n      <th>University Rating</th>\n      <th>SOP</th>\n      <th>LOR</th>\n      <th>CGPA</th>\n      <th>Research</th>\n      <th>Chance of Admit</th>\n    </tr>\n  </thead>\n  <tbody>\n    <tr>\n      <th>0</th>\n      <td>337</td>\n      <td>118</td>\n      <td>4</td>\n      <td>4.5</td>\n      <td>4.5</td>\n      <td>9.65</td>\n      <td>1</td>\n      <td>0.92</td>\n    </tr>\n    <tr>\n      <th>1</th>\n      <td>324</td>\n      <td>107</td>\n      <td>4</td>\n      <td>4.0</td>\n      <td>4.5</td>\n      <td>8.87</td>\n      <td>1</td>\n      <td>0.76</td>\n    </tr>\n    <tr>\n      <th>2</th>\n      <td>316</td>\n      <td>104</td>\n      <td>3</td>\n      <td>3.0</td>\n      <td>3.5</td>\n      <td>8.00</td>\n      <td>1</td>\n      <td>0.72</td>\n    </tr>\n    <tr>\n      <th>3</th>\n      <td>322</td>\n      <td>110</td>\n      <td>3</td>\n      <td>3.5</td>\n      <td>2.5</td>\n      <td>8.67</td>\n      <td>1</td>\n      <td>0.80</td>\n    </tr>\n    <tr>\n      <th>4</th>\n      <td>314</td>\n      <td>103</td>\n      <td>2</td>\n      <td>2.0</td>\n      <td>3.0</td>\n      <td>8.21</td>\n      <td>0</td>\n      <td>0.65</td>\n    </tr>\n  </tbody>\n</table>\n</div>"
     },
     "metadata": {},
     "execution_count": 5
    }
   ],
   "source": [
    "admission_df.head()"
   ]
  },
  {
   "cell_type": "code",
   "execution_count": 6,
   "metadata": {},
   "outputs": [
    {
     "output_type": "execute_result",
     "data": {
      "text/plain": [
       "     1  GRE Score  TOEFL Score  University Rating  SOP  LOR   CGPA  Research  \\\n",
       "0  1.0      337.0        118.0                4.0  4.5   4.5  9.65       1.0   \n",
       "1  1.0      324.0        107.0                4.0  4.0   4.5  8.87       1.0   \n",
       "2  1.0      316.0        104.0                3.0  3.0   3.5  8.00       1.0   \n",
       "3  1.0      322.0        110.0                3.0  3.5   2.5  8.67       1.0   \n",
       "4  1.0      314.0        103.0                2.0  2.0   3.0  8.21       0.0   \n",
       "\n",
       "   GRE Score^2  GRE Score TOEFL Score  ...  LOR  CGPA^2 Research^3  \\\n",
       "0     113569.0                39766.0  ...               419.05125   \n",
       "1     104976.0                34668.0  ...               354.04605   \n",
       "2      99856.0                32864.0  ...               224.00000   \n",
       "3     103684.0                35420.0  ...               187.92225   \n",
       "4      98596.0                32342.0  ...                 0.00000   \n",
       "\n",
       "   LOR  CGPA Research^4  LOR  Research^5         CGPA^6  CGPA^5 Research  \\\n",
       "0                43.425              4.5  807539.696082     83682.870060   \n",
       "1                39.915              4.5  487014.306256     54905.784245   \n",
       "2                28.000              3.5  262144.000000     32768.000000   \n",
       "3                21.675              2.5  424731.610940     48988.651781   \n",
       "4                 0.000              0.0  306237.903347         0.000000   \n",
       "\n",
       "   CGPA^4 Research^2  CGPA^3 Research^3  CGPA^2 Research^4  CGPA Research^5  \\\n",
       "0        8671.800006         898.632125            93.1225             9.65   \n",
       "1        6190.054594         697.864103            78.6769             8.87   \n",
       "2        4096.000000         512.000000            64.0000             8.00   \n",
       "3        5650.363527         651.714363            75.1689             8.67   \n",
       "4           0.000000           0.000000             0.0000             0.00   \n",
       "\n",
       "   Research^6  \n",
       "0         1.0  \n",
       "1         1.0  \n",
       "2         1.0  \n",
       "3         1.0  \n",
       "4         0.0  \n",
       "\n",
       "[5 rows x 1716 columns]"
      ],
      "text/html": "<div>\n<style scoped>\n    .dataframe tbody tr th:only-of-type {\n        vertical-align: middle;\n    }\n\n    .dataframe tbody tr th {\n        vertical-align: top;\n    }\n\n    .dataframe thead th {\n        text-align: right;\n    }\n</style>\n<table border=\"1\" class=\"dataframe\">\n  <thead>\n    <tr style=\"text-align: right;\">\n      <th></th>\n      <th>1</th>\n      <th>GRE Score</th>\n      <th>TOEFL Score</th>\n      <th>University Rating</th>\n      <th>SOP</th>\n      <th>LOR</th>\n      <th>CGPA</th>\n      <th>Research</th>\n      <th>GRE Score^2</th>\n      <th>GRE Score TOEFL Score</th>\n      <th>...</th>\n      <th>LOR  CGPA^2 Research^3</th>\n      <th>LOR  CGPA Research^4</th>\n      <th>LOR  Research^5</th>\n      <th>CGPA^6</th>\n      <th>CGPA^5 Research</th>\n      <th>CGPA^4 Research^2</th>\n      <th>CGPA^3 Research^3</th>\n      <th>CGPA^2 Research^4</th>\n      <th>CGPA Research^5</th>\n      <th>Research^6</th>\n    </tr>\n  </thead>\n  <tbody>\n    <tr>\n      <th>0</th>\n      <td>1.0</td>\n      <td>337.0</td>\n      <td>118.0</td>\n      <td>4.0</td>\n      <td>4.5</td>\n      <td>4.5</td>\n      <td>9.65</td>\n      <td>1.0</td>\n      <td>113569.0</td>\n      <td>39766.0</td>\n      <td>...</td>\n      <td>419.05125</td>\n      <td>43.425</td>\n      <td>4.5</td>\n      <td>807539.696082</td>\n      <td>83682.870060</td>\n      <td>8671.800006</td>\n      <td>898.632125</td>\n      <td>93.1225</td>\n      <td>9.65</td>\n      <td>1.0</td>\n    </tr>\n    <tr>\n      <th>1</th>\n      <td>1.0</td>\n      <td>324.0</td>\n      <td>107.0</td>\n      <td>4.0</td>\n      <td>4.0</td>\n      <td>4.5</td>\n      <td>8.87</td>\n      <td>1.0</td>\n      <td>104976.0</td>\n      <td>34668.0</td>\n      <td>...</td>\n      <td>354.04605</td>\n      <td>39.915</td>\n      <td>4.5</td>\n      <td>487014.306256</td>\n      <td>54905.784245</td>\n      <td>6190.054594</td>\n      <td>697.864103</td>\n      <td>78.6769</td>\n      <td>8.87</td>\n      <td>1.0</td>\n    </tr>\n    <tr>\n      <th>2</th>\n      <td>1.0</td>\n      <td>316.0</td>\n      <td>104.0</td>\n      <td>3.0</td>\n      <td>3.0</td>\n      <td>3.5</td>\n      <td>8.00</td>\n      <td>1.0</td>\n      <td>99856.0</td>\n      <td>32864.0</td>\n      <td>...</td>\n      <td>224.00000</td>\n      <td>28.000</td>\n      <td>3.5</td>\n      <td>262144.000000</td>\n      <td>32768.000000</td>\n      <td>4096.000000</td>\n      <td>512.000000</td>\n      <td>64.0000</td>\n      <td>8.00</td>\n      <td>1.0</td>\n    </tr>\n    <tr>\n      <th>3</th>\n      <td>1.0</td>\n      <td>322.0</td>\n      <td>110.0</td>\n      <td>3.0</td>\n      <td>3.5</td>\n      <td>2.5</td>\n      <td>8.67</td>\n      <td>1.0</td>\n      <td>103684.0</td>\n      <td>35420.0</td>\n      <td>...</td>\n      <td>187.92225</td>\n      <td>21.675</td>\n      <td>2.5</td>\n      <td>424731.610940</td>\n      <td>48988.651781</td>\n      <td>5650.363527</td>\n      <td>651.714363</td>\n      <td>75.1689</td>\n      <td>8.67</td>\n      <td>1.0</td>\n    </tr>\n    <tr>\n      <th>4</th>\n      <td>1.0</td>\n      <td>314.0</td>\n      <td>103.0</td>\n      <td>2.0</td>\n      <td>2.0</td>\n      <td>3.0</td>\n      <td>8.21</td>\n      <td>0.0</td>\n      <td>98596.0</td>\n      <td>32342.0</td>\n      <td>...</td>\n      <td>0.00000</td>\n      <td>0.000</td>\n      <td>0.0</td>\n      <td>306237.903347</td>\n      <td>0.000000</td>\n      <td>0.000000</td>\n      <td>0.000000</td>\n      <td>0.0000</td>\n      <td>0.00</td>\n      <td>0.0</td>\n    </tr>\n  </tbody>\n</table>\n<p>5 rows × 1716 columns</p>\n</div>"
     },
     "metadata": {},
     "execution_count": 6
    }
   ],
   "source": [
    "X=admission_df.drop([\"Chance of Admit \"],axis=1)\n",
    "\n",
    "Polynomial_transformer= PolynomialFeatures(6)\n",
    "polynomial_features = Polynomial_transformer.fit_transform(X.values)\n",
    "features=Polynomial_transformer.get_feature_names(X.columns)\n",
    "\n",
    "X=pd.DataFrame(polynomial_features,columns=features)\n",
    "X.head()"
   ]
  },
  {
   "cell_type": "code",
   "execution_count": 7,
   "metadata": {},
   "outputs": [
    {
     "output_type": "execute_result",
     "data": {
      "text/plain": [
       "   Chance of Admit \n",
       "0              0.92\n",
       "1              0.76\n",
       "2              0.72\n",
       "3              0.80\n",
       "4              0.65"
      ],
      "text/html": "<div>\n<style scoped>\n    .dataframe tbody tr th:only-of-type {\n        vertical-align: middle;\n    }\n\n    .dataframe tbody tr th {\n        vertical-align: top;\n    }\n\n    .dataframe thead th {\n        text-align: right;\n    }\n</style>\n<table border=\"1\" class=\"dataframe\">\n  <thead>\n    <tr style=\"text-align: right;\">\n      <th></th>\n      <th>Chance of Admit</th>\n    </tr>\n  </thead>\n  <tbody>\n    <tr>\n      <th>0</th>\n      <td>0.92</td>\n    </tr>\n    <tr>\n      <th>1</th>\n      <td>0.76</td>\n    </tr>\n    <tr>\n      <th>2</th>\n      <td>0.72</td>\n    </tr>\n    <tr>\n      <th>3</th>\n      <td>0.80</td>\n    </tr>\n    <tr>\n      <th>4</th>\n      <td>0.65</td>\n    </tr>\n  </tbody>\n</table>\n</div>"
     },
     "metadata": {},
     "execution_count": 7
    }
   ],
   "source": [
    "y=admission_df[[\"Chance of Admit \"]]\n",
    "y.head()"
   ]
  },
  {
   "cell_type": "code",
   "execution_count": 8,
   "metadata": {},
   "outputs": [
    {
     "output_type": "execute_result",
     "data": {
      "text/plain": [
       "Lasso(alpha=0.001, normalize=True)"
      ]
     },
     "metadata": {},
     "execution_count": 8
    }
   ],
   "source": [
    "X_train,X_test,Y_train,Y_test = train_test_split(X,y,test_size=0.3,random_state=5)\n",
    "model=LinearRegression()\n",
    "model2=Lasso(alpha=0.001,max_iter=1000,normalize=True)\n",
    "#l2 모델은 Ridge    \n",
    "model.fit(X_train,Y_train)\n",
    "model2.fit(X_train,Y_train)"
   ]
  },
  {
   "cell_type": "code",
   "execution_count": 10,
   "metadata": {},
   "outputs": [],
   "source": [
    "y_train_predict=model2.predict(X_train)\n",
    "y_test_predict=model2.predict(X_test)"
   ]
  },
  {
   "cell_type": "code",
   "execution_count": 11,
   "metadata": {},
   "outputs": [
    {
     "output_type": "stream",
     "name": "stdout",
     "text": [
      "0.06336620966147144\n0.06007719092689255\n"
     ]
    }
   ],
   "source": [
    "mse = mean_squared_error(Y_train,y_train_predict)\n",
    "\n",
    "print(sqrt(mse))\n",
    "\n",
    "\n",
    "mse=mean_squared_error(Y_test,y_test_predict)\n",
    "\n",
    "print(sqrt(mse))"
   ]
  },
  {
   "cell_type": "code",
   "execution_count": null,
   "metadata": {},
   "outputs": [],
   "source": []
  }
 ]
}